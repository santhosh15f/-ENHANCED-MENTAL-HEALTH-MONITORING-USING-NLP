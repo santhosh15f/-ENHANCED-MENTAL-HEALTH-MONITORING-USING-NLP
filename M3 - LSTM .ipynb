{
 "cells": [
  {
   "cell_type": "markdown",
   "id": "58a7dc8d",
   "metadata": {},
   "source": [
    "### LSTM ARCHITECTURE"
   ]
  },
  {
   "cell_type": "code",
   "execution_count": 1,
   "id": "f40f6596",
   "metadata": {},
   "outputs": [],
   "source": [
    "import pandas as pd\n",
    "import numpy as np"
   ]
  },
  {
   "cell_type": "code",
   "execution_count": 2,
   "id": "62beca64",
   "metadata": {},
   "outputs": [
    {
     "data": {
      "text/html": [
       "<div>\n",
       "<style scoped>\n",
       "    .dataframe tbody tr th:only-of-type {\n",
       "        vertical-align: middle;\n",
       "    }\n",
       "\n",
       "    .dataframe tbody tr th {\n",
       "        vertical-align: top;\n",
       "    }\n",
       "\n",
       "    .dataframe thead th {\n",
       "        text-align: right;\n",
       "    }\n",
       "</style>\n",
       "<table border=\"1\" class=\"dataframe\">\n",
       "  <thead>\n",
       "    <tr style=\"text-align: right;\">\n",
       "      <th></th>\n",
       "      <th>text</th>\n",
       "      <th>label</th>\n",
       "    </tr>\n",
       "  </thead>\n",
       "  <tbody>\n",
       "    <tr>\n",
       "      <th>0</th>\n",
       "      <td>dear american teens question dutch person hear...</td>\n",
       "      <td>0</td>\n",
       "    </tr>\n",
       "    <tr>\n",
       "      <th>1</th>\n",
       "      <td>nothing look forward lifei dont many reasons k...</td>\n",
       "      <td>1</td>\n",
       "    </tr>\n",
       "    <tr>\n",
       "      <th>2</th>\n",
       "      <td>music recommendations im looking expand playli...</td>\n",
       "      <td>0</td>\n",
       "    </tr>\n",
       "    <tr>\n",
       "      <th>3</th>\n",
       "      <td>im done trying feel betterthe reason im still ...</td>\n",
       "      <td>1</td>\n",
       "    </tr>\n",
       "    <tr>\n",
       "      <th>4</th>\n",
       "      <td>worried  year old girl subject domestic physic...</td>\n",
       "      <td>1</td>\n",
       "    </tr>\n",
       "  </tbody>\n",
       "</table>\n",
       "</div>"
      ],
      "text/plain": [
       "                                                text  label\n",
       "0  dear american teens question dutch person hear...      0\n",
       "1  nothing look forward lifei dont many reasons k...      1\n",
       "2  music recommendations im looking expand playli...      0\n",
       "3  im done trying feel betterthe reason im still ...      1\n",
       "4  worried  year old girl subject domestic physic...      1"
      ]
     },
     "execution_count": 2,
     "metadata": {},
     "output_type": "execute_result"
    }
   ],
   "source": [
    "Data = pd.read_csv('mental_health.csv')\n",
    "Data.head()"
   ]
  },
  {
   "cell_type": "code",
   "execution_count": 3,
   "id": "43b4bf60",
   "metadata": {},
   "outputs": [
    {
     "data": {
      "text/html": [
       "<div>\n",
       "<style scoped>\n",
       "    .dataframe tbody tr th:only-of-type {\n",
       "        vertical-align: middle;\n",
       "    }\n",
       "\n",
       "    .dataframe tbody tr th {\n",
       "        vertical-align: top;\n",
       "    }\n",
       "\n",
       "    .dataframe thead th {\n",
       "        text-align: right;\n",
       "    }\n",
       "</style>\n",
       "<table border=\"1\" class=\"dataframe\">\n",
       "  <thead>\n",
       "    <tr style=\"text-align: right;\">\n",
       "      <th></th>\n",
       "      <th>text</th>\n",
       "      <th>label</th>\n",
       "    </tr>\n",
       "  </thead>\n",
       "  <tbody>\n",
       "    <tr>\n",
       "      <th>27972</th>\n",
       "      <td>posting everyday people stop caring  religion ...</td>\n",
       "      <td>0</td>\n",
       "    </tr>\n",
       "    <tr>\n",
       "      <th>27973</th>\n",
       "      <td>okay definetly need hear guys opinion ive pret...</td>\n",
       "      <td>0</td>\n",
       "    </tr>\n",
       "    <tr>\n",
       "      <th>27974</th>\n",
       "      <td>cant get dog think ill kill myselfthe last thi...</td>\n",
       "      <td>1</td>\n",
       "    </tr>\n",
       "    <tr>\n",
       "      <th>27975</th>\n",
       "      <td>whats point princess bridei really think like ...</td>\n",
       "      <td>1</td>\n",
       "    </tr>\n",
       "    <tr>\n",
       "      <th>27976</th>\n",
       "      <td>got nudes person might might know snapchat do ...</td>\n",
       "      <td>0</td>\n",
       "    </tr>\n",
       "  </tbody>\n",
       "</table>\n",
       "</div>"
      ],
      "text/plain": [
       "                                                    text  label\n",
       "27972  posting everyday people stop caring  religion ...      0\n",
       "27973  okay definetly need hear guys opinion ive pret...      0\n",
       "27974  cant get dog think ill kill myselfthe last thi...      1\n",
       "27975  whats point princess bridei really think like ...      1\n",
       "27976  got nudes person might might know snapchat do ...      0"
      ]
     },
     "execution_count": 3,
     "metadata": {},
     "output_type": "execute_result"
    }
   ],
   "source": [
    "Data.tail()"
   ]
  },
  {
   "cell_type": "code",
   "execution_count": 4,
   "id": "59b21d72",
   "metadata": {},
   "outputs": [
    {
     "data": {
      "text/plain": [
       "label\n",
       "0    14139\n",
       "1    13838\n",
       "Name: count, dtype: int64"
      ]
     },
     "execution_count": 4,
     "metadata": {},
     "output_type": "execute_result"
    }
   ],
   "source": [
    "Data['label'].value_counts()"
   ]
  },
  {
   "cell_type": "code",
   "execution_count": 5,
   "id": "15eeec04",
   "metadata": {},
   "outputs": [],
   "source": [
    "Data['text'] = Data['text'].apply(lambda x: x.lower() if pd.notna(x) else \"\")"
   ]
  },
  {
   "cell_type": "code",
   "execution_count": 6,
   "id": "7537b6b5",
   "metadata": {},
   "outputs": [],
   "source": [
    "from sklearn.preprocessing import LabelEncoder\n",
    "\n",
    "label_encoder = LabelEncoder()\n",
    "Data['label'] = label_encoder.fit_transform(Data['label'])"
   ]
  },
  {
   "cell_type": "code",
   "execution_count": 7,
   "id": "92676667",
   "metadata": {},
   "outputs": [],
   "source": [
    "num_classes = len(label_encoder.classes_) "
   ]
  },
  {
   "cell_type": "code",
   "execution_count": 8,
   "id": "753f4b88",
   "metadata": {},
   "outputs": [],
   "source": [
    "x = Data['text']\n",
    "y = Data['label']"
   ]
  },
  {
   "cell_type": "code",
   "execution_count": 9,
   "id": "6369e19b",
   "metadata": {},
   "outputs": [
    {
     "name": "stdout",
     "output_type": "stream",
     "text": [
      "WARNING:tensorflow:From F:\\SOFTWARE\\Anaconda\\Lib\\site-packages\\keras\\src\\losses.py:2976: The name tf.losses.sparse_softmax_cross_entropy is deprecated. Please use tf.compat.v1.losses.sparse_softmax_cross_entropy instead.\n",
      "\n"
     ]
    }
   ],
   "source": [
    "from tensorflow.keras.utils import to_categorical\n",
    "\n",
    "y = to_categorical(y, num_classes=num_classes)"
   ]
  },
  {
   "cell_type": "markdown",
   "id": "a66c6166",
   "metadata": {},
   "source": []
  },
  {
   "cell_type": "code",
   "execution_count": 10,
   "id": "526d9637",
   "metadata": {},
   "outputs": [],
   "source": [
    "from sklearn.model_selection import train_test_split\n",
    "\n",
    "x_train, x_test, y_train, y_test = train_test_split(x, y, test_size=0.2, random_state=42)"
   ]
  },
  {
   "cell_type": "code",
   "execution_count": 11,
   "id": "10b2f33c",
   "metadata": {},
   "outputs": [],
   "source": [
    "max_words = 10000  \n",
    "max_sequence_length = 100"
   ]
  },
  {
   "cell_type": "code",
   "execution_count": 12,
   "id": "b94b922f",
   "metadata": {},
   "outputs": [],
   "source": [
    "from tensorflow.keras.preprocessing.text import Tokenizer\n",
    "\n",
    "tokenizer = Tokenizer(num_words=max_words)\n",
    "tokenizer.fit_on_texts(x_train)"
   ]
  },
  {
   "cell_type": "code",
   "execution_count": 13,
   "id": "8f4e9c46",
   "metadata": {},
   "outputs": [],
   "source": [
    "X_train_sequences = tokenizer.texts_to_sequences(x_train)\n",
    "X_test_sequences = tokenizer.texts_to_sequences(x_test)"
   ]
  },
  {
   "cell_type": "code",
   "execution_count": 14,
   "id": "6f831140",
   "metadata": {},
   "outputs": [],
   "source": [
    "from tensorflow.keras.preprocessing.sequence import pad_sequences\n",
    "\n",
    "X_train_padded = pad_sequences(X_train_sequences, maxlen=max_sequence_length)\n",
    "X_test_padded = pad_sequences(X_test_sequences, maxlen=max_sequence_length)"
   ]
  },
  {
   "cell_type": "code",
   "execution_count": 15,
   "id": "490ac782",
   "metadata": {},
   "outputs": [],
   "source": [
    "embedding_dim = 100  \n",
    "lstm_units = 128"
   ]
  },
  {
   "cell_type": "code",
   "execution_count": 16,
   "id": "e8491acc",
   "metadata": {},
   "outputs": [],
   "source": [
    "from tensorflow.keras.models import Sequential\n",
    "from tensorflow.keras.layers import Embedding\n",
    "from tensorflow.keras.layers import Bidirectional\n",
    "from tensorflow.keras.layers import LSTM\n",
    "from tensorflow.keras.layers import Dense"
   ]
  },
  {
   "cell_type": "code",
   "execution_count": 17,
   "id": "52b2d9ee",
   "metadata": {},
   "outputs": [
    {
     "name": "stdout",
     "output_type": "stream",
     "text": [
      "WARNING:tensorflow:From F:\\SOFTWARE\\Anaconda\\Lib\\site-packages\\keras\\src\\backend.py:873: The name tf.get_default_graph is deprecated. Please use tf.compat.v1.get_default_graph instead.\n",
      "\n"
     ]
    }
   ],
   "source": [
    "model = Sequential()\n",
    "model.add(Embedding(input_dim=max_words, output_dim=embedding_dim, input_length=max_sequence_length))\n",
    "model.add(Bidirectional(LSTM(units=lstm_units, dropout=0.2, recurrent_dropout=0.2)))\n",
    "model.add(Dense(units=num_classes, activation='softmax'))"
   ]
  },
  {
   "cell_type": "code",
   "execution_count": 18,
   "id": "db721ff6",
   "metadata": {},
   "outputs": [
    {
     "name": "stdout",
     "output_type": "stream",
     "text": [
      "WARNING:tensorflow:From F:\\SOFTWARE\\Anaconda\\Lib\\site-packages\\keras\\src\\optimizers\\__init__.py:309: The name tf.train.Optimizer is deprecated. Please use tf.compat.v1.train.Optimizer instead.\n",
      "\n"
     ]
    }
   ],
   "source": [
    "model.compile(loss='categorical_crossentropy', optimizer='adam', metrics=['accuracy'])"
   ]
  },
  {
   "cell_type": "code",
   "execution_count": 19,
   "id": "34a45025",
   "metadata": {},
   "outputs": [],
   "source": [
    "epochs = 20\n",
    "batch_size = 32"
   ]
  },
  {
   "cell_type": "code",
   "execution_count": 20,
   "id": "65132472",
   "metadata": {},
   "outputs": [],
   "source": [
    "from tensorflow.keras.callbacks import ModelCheckpoint\n",
    "\n",
    "model_checkpoint = ModelCheckpoint('MENTAL.h5', \n",
    "                                   monitor='accuracy', \n",
    "                                   save_best_only=True, \n",
    "                                   verbose=1,\n",
    "                                   mode='max')"
   ]
  },
  {
   "cell_type": "code",
   "execution_count": 21,
   "id": "1a806964",
   "metadata": {},
   "outputs": [
    {
     "name": "stdout",
     "output_type": "stream",
     "text": [
      "Epoch 1/20\n",
      "WARNING:tensorflow:From F:\\SOFTWARE\\Anaconda\\Lib\\site-packages\\keras\\src\\utils\\tf_utils.py:492: The name tf.ragged.RaggedTensorValue is deprecated. Please use tf.compat.v1.ragged.RaggedTensorValue instead.\n",
      "\n",
      "WARNING:tensorflow:From F:\\SOFTWARE\\Anaconda\\Lib\\site-packages\\keras\\src\\engine\\base_layer_utils.py:384: The name tf.executing_eagerly_outside_functions is deprecated. Please use tf.compat.v1.executing_eagerly_outside_functions instead.\n",
      "\n",
      "630/630 [==============================] - ETA: 0s - loss: 0.2651 - accuracy: 0.8923\n",
      "Epoch 1: accuracy improved from -inf to 0.89226, saving model to MENTAL.h5\n",
      "630/630 [==============================] - 306s 465ms/step - loss: 0.2651 - accuracy: 0.8923 - val_loss: 0.2603 - val_accuracy: 0.9049\n",
      "Epoch 2/20\n"
     ]
    },
    {
     "name": "stderr",
     "output_type": "stream",
     "text": [
      "F:\\SOFTWARE\\Anaconda\\Lib\\site-packages\\keras\\src\\engine\\training.py:3103: UserWarning: You are saving your model as an HDF5 file via `model.save()`. This file format is considered legacy. We recommend using instead the native Keras format, e.g. `model.save('my_model.keras')`.\n",
      "  saving_api.save_model(\n"
     ]
    },
    {
     "name": "stdout",
     "output_type": "stream",
     "text": [
      "630/630 [==============================] - ETA: 0s - loss: 0.1661 - accuracy: 0.9391\n",
      "Epoch 2: accuracy improved from 0.89226 to 0.93908, saving model to MENTAL.h5\n",
      "630/630 [==============================] - 346s 549ms/step - loss: 0.1661 - accuracy: 0.9391 - val_loss: 0.2434 - val_accuracy: 0.9080\n",
      "Epoch 3/20\n",
      "630/630 [==============================] - ETA: 0s - loss: 0.1220 - accuracy: 0.9574\n",
      "Epoch 3: accuracy improved from 0.93908 to 0.95740, saving model to MENTAL.h5\n",
      "630/630 [==============================] - 310s 493ms/step - loss: 0.1220 - accuracy: 0.9574 - val_loss: 0.2565 - val_accuracy: 0.9071\n",
      "Epoch 4/20\n",
      "630/630 [==============================] - ETA: 0s - loss: 0.0965 - accuracy: 0.9662\n",
      "Epoch 4: accuracy improved from 0.95740 to 0.96619, saving model to MENTAL.h5\n",
      "630/630 [==============================] - 267s 424ms/step - loss: 0.0965 - accuracy: 0.9662 - val_loss: 0.2679 - val_accuracy: 0.9102\n",
      "Epoch 5/20\n",
      "630/630 [==============================] - ETA: 0s - loss: 0.0799 - accuracy: 0.9702\n",
      "Epoch 5: accuracy improved from 0.96619 to 0.97016, saving model to MENTAL.h5\n",
      "630/630 [==============================] - 265s 421ms/step - loss: 0.0799 - accuracy: 0.9702 - val_loss: 0.3070 - val_accuracy: 0.9053\n",
      "Epoch 6/20\n",
      "630/630 [==============================] - ETA: 0s - loss: 0.0631 - accuracy: 0.9777\n",
      "Epoch 6: accuracy improved from 0.97016 to 0.97766, saving model to MENTAL.h5\n",
      "630/630 [==============================] - 266s 423ms/step - loss: 0.0631 - accuracy: 0.9777 - val_loss: 0.4170 - val_accuracy: 0.9044\n",
      "Epoch 7/20\n",
      "630/630 [==============================] - ETA: 0s - loss: 0.0506 - accuracy: 0.9821\n",
      "Epoch 7: accuracy improved from 0.97766 to 0.98208, saving model to MENTAL.h5\n",
      "630/630 [==============================] - 265s 421ms/step - loss: 0.0506 - accuracy: 0.9821 - val_loss: 0.3570 - val_accuracy: 0.9044\n",
      "Epoch 8/20\n",
      "630/630 [==============================] - ETA: 0s - loss: 0.0396 - accuracy: 0.9862\n",
      "Epoch 8: accuracy improved from 0.98208 to 0.98625, saving model to MENTAL.h5\n",
      "630/630 [==============================] - 265s 420ms/step - loss: 0.0396 - accuracy: 0.9862 - val_loss: 0.3532 - val_accuracy: 0.9134\n",
      "Epoch 9/20\n",
      "630/630 [==============================] - ETA: 0s - loss: 0.0419 - accuracy: 0.9860\n",
      "Epoch 9: accuracy did not improve from 0.98625\n",
      "630/630 [==============================] - 266s 422ms/step - loss: 0.0419 - accuracy: 0.9860 - val_loss: 0.3761 - val_accuracy: 0.9049\n",
      "Epoch 10/20\n",
      "630/630 [==============================] - ETA: 0s - loss: 0.0311 - accuracy: 0.9889\n",
      "Epoch 10: accuracy improved from 0.98625 to 0.98888, saving model to MENTAL.h5\n",
      "630/630 [==============================] - 273s 433ms/step - loss: 0.0311 - accuracy: 0.9889 - val_loss: 0.4162 - val_accuracy: 0.9058\n",
      "Epoch 11/20\n",
      "630/630 [==============================] - ETA: 0s - loss: 0.0214 - accuracy: 0.9932\n",
      "Epoch 11: accuracy improved from 0.98888 to 0.99325, saving model to MENTAL.h5\n",
      "630/630 [==============================] - 278s 442ms/step - loss: 0.0214 - accuracy: 0.9932 - val_loss: 0.5102 - val_accuracy: 0.9084\n",
      "Epoch 12/20\n",
      "630/630 [==============================] - ETA: 0s - loss: 0.0171 - accuracy: 0.9949\n",
      "Epoch 12: accuracy improved from 0.99325 to 0.99494, saving model to MENTAL.h5\n",
      "630/630 [==============================] - 270s 428ms/step - loss: 0.0171 - accuracy: 0.9949 - val_loss: 0.4949 - val_accuracy: 0.9004\n",
      "Epoch 13/20\n",
      "630/630 [==============================] - ETA: 0s - loss: 0.0163 - accuracy: 0.9952\n",
      "Epoch 13: accuracy improved from 0.99494 to 0.99523, saving model to MENTAL.h5\n",
      "630/630 [==============================] - 268s 425ms/step - loss: 0.0163 - accuracy: 0.9952 - val_loss: 0.5603 - val_accuracy: 0.9013\n",
      "Epoch 14/20\n",
      "630/630 [==============================] - ETA: 0s - loss: 0.0183 - accuracy: 0.9930\n",
      "Epoch 14: accuracy did not improve from 0.99523\n",
      "630/630 [==============================] - 294s 467ms/step - loss: 0.0183 - accuracy: 0.9930 - val_loss: 0.5669 - val_accuracy: 0.8964\n",
      "Epoch 15/20\n",
      "630/630 [==============================] - ETA: 0s - loss: 0.0166 - accuracy: 0.9940\n",
      "Epoch 15: accuracy did not improve from 0.99523\n",
      "630/630 [==============================] - 301s 478ms/step - loss: 0.0166 - accuracy: 0.9940 - val_loss: 0.5285 - val_accuracy: 0.9017\n",
      "Epoch 16/20\n",
      "630/630 [==============================] - ETA: 0s - loss: 0.0120 - accuracy: 0.9962\n",
      "Epoch 16: accuracy improved from 0.99523 to 0.99618, saving model to MENTAL.h5\n",
      "630/630 [==============================] - 306s 486ms/step - loss: 0.0120 - accuracy: 0.9962 - val_loss: 0.5745 - val_accuracy: 0.8959\n",
      "Epoch 17/20\n",
      "630/630 [==============================] - ETA: 0s - loss: 0.0076 - accuracy: 0.9973\n",
      "Epoch 17: accuracy improved from 0.99618 to 0.99727, saving model to MENTAL.h5\n",
      "630/630 [==============================] - 276s 439ms/step - loss: 0.0076 - accuracy: 0.9973 - val_loss: 0.6492 - val_accuracy: 0.9022\n",
      "Epoch 18/20\n",
      "630/630 [==============================] - ETA: 0s - loss: 0.0064 - accuracy: 0.9975\n",
      "Epoch 18: accuracy improved from 0.99727 to 0.99747, saving model to MENTAL.h5\n",
      "630/630 [==============================] - 276s 438ms/step - loss: 0.0064 - accuracy: 0.9975 - val_loss: 0.6564 - val_accuracy: 0.8991\n",
      "Epoch 19/20\n",
      "630/630 [==============================] - ETA: 0s - loss: 0.0124 - accuracy: 0.9958\n",
      "Epoch 19: accuracy did not improve from 0.99747\n",
      "630/630 [==============================] - 278s 441ms/step - loss: 0.0124 - accuracy: 0.9958 - val_loss: 0.6443 - val_accuracy: 0.8995\n",
      "Epoch 20/20\n",
      "630/630 [==============================] - ETA: 0s - loss: 0.0113 - accuracy: 0.9963\n",
      "Epoch 20: accuracy did not improve from 0.99747\n",
      "630/630 [==============================] - 275s 437ms/step - loss: 0.0113 - accuracy: 0.9963 - val_loss: 0.4942 - val_accuracy: 0.9022\n"
     ]
    },
    {
     "data": {
      "text/plain": [
       "<keras.src.callbacks.History at 0x1aa95a9c690>"
      ]
     },
     "execution_count": 21,
     "metadata": {},
     "output_type": "execute_result"
    }
   ],
   "source": [
    "model.fit(X_train_padded, y_train, epochs=epochs, batch_size=batch_size, validation_split=0.1, callbacks=[model_checkpoint])"
   ]
  },
  {
   "cell_type": "code",
   "execution_count": 22,
   "id": "cb25308f",
   "metadata": {},
   "outputs": [
    {
     "name": "stdout",
     "output_type": "stream",
     "text": [
      "175/175 [==============================] - 10s 52ms/step\n"
     ]
    }
   ],
   "source": [
    "y_pred = model.predict(X_test_padded)\n",
    "y_pred_classes = np.argmax(y_pred, axis=1)\n",
    "y_true_classes = np.argmax(y_test, axis=1)"
   ]
  },
  {
   "cell_type": "code",
   "execution_count": 23,
   "id": "a6f0f26b",
   "metadata": {},
   "outputs": [
    {
     "name": "stdout",
     "output_type": "stream",
     "text": [
      "THE ACCURACY SCORE OF LSTM ARCHITECTURE IS : 89.43888491779842\n"
     ]
    }
   ],
   "source": [
    "from sklearn.metrics import accuracy_score\n",
    "\n",
    "AC = accuracy_score(y_true_classes,y_pred_classes)\n",
    "\n",
    "print(\"THE ACCURACY SCORE OF LSTM ARCHITECTURE IS :\",AC*100)"
   ]
  },
  {
   "cell_type": "code",
   "execution_count": 24,
   "id": "f6ced910",
   "metadata": {},
   "outputs": [
    {
     "name": "stdout",
     "output_type": "stream",
     "text": [
      "THE HAMMING LOSS OF LSTM ARCHITECTURE IS : 10.561115082201573\n"
     ]
    }
   ],
   "source": [
    "from sklearn.metrics import hamming_loss\n",
    "\n",
    "HL = hamming_loss(y_true_classes,y_pred_classes)\n",
    "\n",
    "print(\"THE HAMMING LOSS OF LSTM ARCHITECTURE IS :\",HL*100)"
   ]
  },
  {
   "cell_type": "code",
   "execution_count": 25,
   "id": "0d32cc59",
   "metadata": {},
   "outputs": [
    {
     "name": "stdout",
     "output_type": "stream",
     "text": [
      "THE CLASSIFICATION REPORT OF LSTM ARCHITECTURE:\n",
      "\n",
      "\n",
      "               precision    recall  f1-score   support\n",
      "\n",
      "           0       0.90      0.89      0.89      2802\n",
      "           1       0.89      0.90      0.89      2794\n",
      "\n",
      "    accuracy                           0.89      5596\n",
      "   macro avg       0.89      0.89      0.89      5596\n",
      "weighted avg       0.89      0.89      0.89      5596\n",
      "\n"
     ]
    }
   ],
   "source": [
    "from sklearn.metrics import classification_report\n",
    "\n",
    "CM = classification_report(y_true_classes,y_pred_classes)\n",
    "\n",
    "print('THE CLASSIFICATION REPORT OF LSTM ARCHITECTURE:\\n\\n\\n',CM)"
   ]
  },
  {
   "cell_type": "code",
   "execution_count": 26,
   "id": "2c8d5164",
   "metadata": {},
   "outputs": [
    {
     "name": "stdout",
     "output_type": "stream",
     "text": [
      "THE CONFUSION MATRIX SCORE OF LSTM ARCHITECTURE:\n",
      "\n",
      "\n",
      " [[2487  315]\n",
      " [ 276 2518]]\n"
     ]
    }
   ],
   "source": [
    "from sklearn.metrics import confusion_matrix\n",
    "\n",
    "CM = confusion_matrix(y_true_classes,y_pred_classes)\n",
    "\n",
    "print('THE CONFUSION MATRIX SCORE OF LSTM ARCHITECTURE:\\n\\n\\n',CM)"
   ]
  },
  {
   "cell_type": "code",
   "execution_count": 27,
   "id": "91a18df0",
   "metadata": {},
   "outputs": [
    {
     "data": {
      "image/png": "[encoded data removed]",
      "text/plain": [
       "<Figure size 640x480 with 2 Axes>"
      ]
     },
     "metadata": {},
     "output_type": "display_data"
    }
   ],
   "source": [
    "import numpy as np\n",
    "import matplotlib.pyplot as plt\n",
    "from sklearn.metrics import confusion_matrix, ConfusionMatrixDisplay\n",
    "\n",
    "# Assuming you have the y_pred_classes and y_true_classes arrays with predicted and true labels respectively.\n",
    "\n",
    "# Calculate the confusion matrix\n",
    "cm = confusion_matrix(y_true_classes, y_pred_classes)\n",
    "\n",
    "# Display the confusion matrix using ConfusionMatrixDisplay\n",
    "classes = np.arange(cm.shape[0])  # Assuming your classes are integers from 0 to n_classes-1\n",
    "disp = ConfusionMatrixDisplay(confusion_matrix=cm, display_labels=classes)\n",
    "disp.plot(cmap='viridis', values_format='d')\n",
    "\n",
    "plt.title('DISPLAY CONFUSION MATRIX OF LSTM ARCHITECTURE\\n\\n')\n",
    "plt.xlabel('Predicted Label')\n",
    "plt.ylabel('True Label')\n",
    "plt.show()\n"
   ]
  },
  {
   "cell_type": "code",
   "execution_count": 28,
   "id": "f9aeded0",
   "metadata": {},
   "outputs": [
    {
     "data": {
      "image/png": "[encoded data removed]",
      "text/plain": [
       "<Figure size 500x500 with 1 Axes>"
      ]
     },
     "metadata": {},
     "output_type": "display_data"
    }
   ],
   "source": [
    "def graph():\n",
    "    import matplotlib.pyplot as plt\n",
    "    data=[AC]\n",
    "    alg=\"LSTM ARCHITECTURE\"\n",
    "    plt.figure(figsize=(5,5))\n",
    "    b=plt.bar(alg,data,color=(\"MAROON\"))\n",
    "    plt.title(\"THE ACCURACY SCORE OF LSTM ARCHITECTURE IS\\n\\n\\n\")\n",
    "    plt.legend(b,data,fontsize=9)\n",
    "graph()"
   ]
  },
  {
   "cell_type": "code",
   "execution_count": null,
   "id": "689e3dcd",
   "metadata": {},
   "outputs": [],
   "source": []
  },
  {
   "cell_type": "code",
   "execution_count": null,
   "id": "260f3c61",
   "metadata": {},
   "outputs": [],
   "source": []
  }
 ],
 "metadata": {
  "kernelspec": {
   "display_name": "Python 3 (ipykernel)",
   "language": "python",
   "name": "python3"
  },
  "language_info": {
   "codemirror_mode": {
    "name": "ipython",
    "version": 3
   },
   "file_extension": ".py",
   "mimetype": "text/x-python",
   "name": "python",
   "nbconvert_exporter": "python",
   "pygments_lexer": "ipython3",
   "version": "3.11.5"
  }
 },
 "nbformat": 4,
 "nbformat_minor": 5
}
